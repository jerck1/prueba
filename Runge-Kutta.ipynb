{
 "cells": [
  {
   "cell_type": "markdown",
   "id": "d7376354",
   "metadata": {},
   "source": [
    "# <center> Runge-Kutta de orden 2 <center>\n",
    "    https://github.com/jerck1/prueba"
   ]
  },
  {
   "cell_type": "markdown",
   "id": "67ce7ca5",
   "metadata": {},
   "source": [
    "Problema: Dado un péndulo simple, cuya ecuación del movimiento es:\n",
    "$$ \\frac{d^2\\theta}{d t^2}+\\frac{g}{l}sin \\theta=0$$\n",
    "Resolvámosla para $\\theta$ de forma numérica.\n",
    "\n",
    "Este problema se puede resolver mediante el método de Runge-Kutta de segundo orden, esto es:"
   ]
  },
  {
   "cell_type": "markdown",
   "id": "2dd8b00a",
   "metadata": {},
   "source": [
    "Aplicamos la sustitución:.\n",
    "$$ p=\\frac{d \\theta}{d t}$$\n",
    "entonces:\n",
    "$$ \\frac{d p}{d t}=-\\frac{g}{l}sin \\theta$$\n",
    "Este es un sistema de dos ecuaciones que se puede resolver por el método de Heun:\n",
    "$$\\theta_{i+1}=\\theta_{i}+(l_1/2+l_2/2)h$$\n",
    "con:\n",
    "$$l_1=p_i$$\n",
    "$$l_2=p_{i}+l_1h$$\n",
    "Con los valores de teta hallamos p:\n",
    "\n",
    "$$p_{i+1}=p_{i}+(k_1/2+k_2/2)h$$\n",
    "con:\n",
    "$$k_1=-\\frac{g}{l}sin(\\theta_i)$$\n",
    "$$k_2=-\\frac{g}{l}sin(\\theta_i+h)$$"
   ]
  },
  {
   "cell_type": "code",
   "execution_count": 21,
   "id": "d460f3f7",
   "metadata": {},
   "outputs": [],
   "source": [
    "import numpy as np\n",
    "import pandas as pd\n",
    "import matplotlib.pyplot as plt\n",
    "from IPython.display import Image"
   ]
  },
  {
   "cell_type": "code",
   "execution_count": 42,
   "id": "e34edbd0",
   "metadata": {},
   "outputs": [],
   "source": [
    "g=9.8 #m/s^2\n",
    "L=1. #m\n",
    "t0=0 #s\n",
    "theta0=np.pi/6 #rad\n",
    "omega0=5 #rad/s\n",
    "tf=10\n",
    "n=5\n",
    "h=0.1\n",
    "############################\n",
    "T=np.arange(t0,tf,int((tf-t0)/n))\n",
    "P=np.zeros(n)\n",
    "th=np.zeros(n)\n",
    "T[0]=t0\n",
    "th[0]=theta0\n",
    "P[0]=omega0\n",
    "def l(p):\n",
    "    return p\n",
    "def k(theta):\n",
    "    return -g/L*np.sin(theta)\n",
    "for i in range(4):\n",
    "    th[i+1]=th[i]+(l(P[i])/2+l(P[i]+l(P[i])*h)/2)*h\n",
    "    P[i+1]=P[i]+(k(th[i])/2+k(th[i]+h)/2)*h\n",
    "\n",
    "# for i in range(4):\n",
    "#     P[i+1]=P[i]+(k(th[i])/2+k(th[i]+h)/2)*h"
   ]
  },
  {
   "cell_type": "code",
   "execution_count": 43,
   "id": "1eb9dd69",
   "metadata": {},
   "outputs": [
    {
     "data": {
      "text/plain": [
       "Text(0.5, 0, 'Tiempo (s)')"
      ]
     },
     "execution_count": 43,
     "metadata": {},
     "output_type": "execute_result"
    },
    {
     "data": {
      "image/png": "[encoded data removed]",
      "text/plain": [
       "<Figure size 432x288 with 1 Axes>"
      ]
     },
     "metadata": {
      "needs_background": "light"
     },
     "output_type": "display_data"
    }
   ],
   "source": [
    "plt.plot(T,th)\n",
    "plt.ylabel(\"Ángulo(rad)\")\n",
    "plt.xlabel(\"Tiempo (s)\")"
   ]
  },
  {
   "cell_type": "code",
   "execution_count": null,
   "id": "7dbcfb1f",
   "metadata": {},
   "outputs": [],
   "source": []
  }
 ],
 "metadata": {
  "kernelspec": {
   "display_name": "Python 3 (ipykernel)",
   "language": "python",
   "name": "python3"
  },
  "language_info": {
   "codemirror_mode": {
    "name": "ipython",
    "version": 3
   },
   "file_extension": ".py",
   "mimetype": "text/x-python",
   "name": "python",
   "nbconvert_exporter": "python",
   "pygments_lexer": "ipython3",
   "version": "3.9.12"
  }
 },
 "nbformat": 4,
 "nbformat_minor": 5
}
