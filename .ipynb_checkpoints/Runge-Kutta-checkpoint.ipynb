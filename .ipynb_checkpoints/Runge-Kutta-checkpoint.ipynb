{
 "cells": [
  {
   "cell_type": "markdown",
   "id": "f6ed432a",
   "metadata": {},
   "source": [
    "# <center> Runge-Kutta de orden 2 <center>"
   ]
  },
  {
   "cell_type": "markdown",
   "id": "0ac3b385",
   "metadata": {},
   "source": [
    "Problema: Dado un péndulo simple, cuya ecuación del movimiento es:\n",
    "$$ \\frac{d^2\\theta}{d t^2}+\\frac{g}{l}sin \\theta=0$$\n",
    "Resolvámosla para $\\theta$ de forma numérica.\n",
    "\n",
    "Este problema se puede resolver mediante el método de Runge-Kutta de segundo orden, esto es:"
   ]
  },
  {
   "cell_type": "markdown",
   "id": "76ec29d8",
   "metadata": {},
   "source": [
    "Aplicamos la sustitución:.\n",
    "$$ p=\\frac{d \\theta}{d t}$$\n",
    "entonces:\n",
    "$$ \\frac{d p}{d t}=-\\frac{g}{l}sin \\theta$$\n",
    "Este es un sistema de dos ecuaciones que se puede resolver por el método de Heun:\n",
    "$$\\theta_{i+1}=\\theta_{i}+(l_1/2+l_2/2)h$$\n",
    "con:\n",
    "$$l_1=p_i$$\n",
    "$$l_2=p_{i}+l_1h$$\n",
    "Con los valores de teta hallamos p:\n",
    "\n",
    "$$p_{i+1}=p_{i}+(k_1/2+k_2/2)h$$\n",
    "con:\n",
    "$$k_1=-\\frac{g}{l}sin(\\theta_i)$$\n",
    "$$k_2=-\\frac{g}{l}sin(\\theta_i+h)$$"
   ]
  },
  {
   "cell_type": "code",
   "execution_count": 2,
   "id": "d16b9bb3",
   "metadata": {},
   "outputs": [],
   "source": [
    "import numpy as np\n",
    "import pandas as pd\n",
    "import matplotlib.pyplot as plt\n",
    "from IPython.display import Image"
   ]
  },
  {
   "cell_type": "code",
   "execution_count": 20,
   "id": "d32e12b4",
   "metadata": {},
   "outputs": [
    {
     "ename": "TypeError",
     "evalue": "unsupported operand type(s) for /: 'float' and 'function'",
     "output_type": "error",
     "traceback": [
      "\u001b[0;31m---------------------------------------------------------------------------\u001b[0m",
      "\u001b[0;31mTypeError\u001b[0m                                 Traceback (most recent call last)",
      "Input \u001b[0;32mIn [20]\u001b[0m, in \u001b[0;36m<cell line: 22>\u001b[0;34m()\u001b[0m\n\u001b[1;32m     21\u001b[0m     \u001b[38;5;28;01mreturn\u001b[39;00m \u001b[38;5;241m-\u001b[39mg\u001b[38;5;241m*\u001b[39mnp\u001b[38;5;241m.\u001b[39msin(theta)\u001b[38;5;241m/\u001b[39ml\n\u001b[1;32m     22\u001b[0m \u001b[38;5;28;01mfor\u001b[39;00m i \u001b[38;5;129;01min\u001b[39;00m \u001b[38;5;28mrange\u001b[39m(n):\n\u001b[0;32m---> 23\u001b[0m     p[i\u001b[38;5;241m+\u001b[39m\u001b[38;5;241m1\u001b[39m]\u001b[38;5;241m=\u001b[39mp[i]\u001b[38;5;241m+\u001b[39m(\u001b[43mk\u001b[49m\u001b[43m(\u001b[49m\u001b[43mth\u001b[49m\u001b[43m[\u001b[49m\u001b[43mi\u001b[49m\u001b[43m]\u001b[49m\u001b[43m)\u001b[49m\u001b[38;5;241m/\u001b[39m\u001b[38;5;241m2\u001b[39m\u001b[38;5;241m+\u001b[39mk(th[i]\u001b[38;5;241m+\u001b[39mh)\u001b[38;5;241m/\u001b[39m\u001b[38;5;241m2\u001b[39m)\u001b[38;5;241m*\u001b[39mh\n",
      "Input \u001b[0;32mIn [20]\u001b[0m, in \u001b[0;36mk\u001b[0;34m(theta)\u001b[0m\n\u001b[1;32m     20\u001b[0m \u001b[38;5;28;01mdef\u001b[39;00m \u001b[38;5;21mk\u001b[39m(theta):\n\u001b[0;32m---> 21\u001b[0m     \u001b[38;5;28;01mreturn\u001b[39;00m \u001b[38;5;241;43m-\u001b[39;49m\u001b[43mg\u001b[49m\u001b[38;5;241;43m*\u001b[39;49m\u001b[43mnp\u001b[49m\u001b[38;5;241;43m.\u001b[39;49m\u001b[43msin\u001b[49m\u001b[43m(\u001b[49m\u001b[43mtheta\u001b[49m\u001b[43m)\u001b[49m\u001b[38;5;241;43m/\u001b[39;49m\u001b[43ml\u001b[49m\n",
      "\u001b[0;31mTypeError\u001b[0m: unsupported operand type(s) for /: 'float' and 'function'"
     ]
    }
   ],
   "source": [
    "g=9.8 #m/s^2\n",
    "l=1. #m\n",
    "t0=0 #s\n",
    "theta0=np.pi/4 #rad\n",
    "omega0=5 #rad/s\n",
    "tf=10\n",
    "n=5\n",
    "h=0.1\n",
    "############################\n",
    "T=np.arange(t0,tf,n)\n",
    "P=np.zeros(n)\n",
    "th=np.zeros(n)\n",
    "T[0]=t0\n",
    "th[0]=theta0\n",
    "P[0]=omega0\n",
    "def l(p):\n",
    "    return p\n",
    "for i in range(4):\n",
    "    th[i+1]=th[i]+(l(p[i])/2+l(p[i]+l(p[i])*h)/2)*h\n",
    "def k(theta):\n",
    "    return -g*np.sin(theta)/l\n",
    "for i in range(n):\n",
    "    p[i+1]=p[i]+(k(th[i])/2+k(th[i]+h)/2)*h"
   ]
  },
  {
   "cell_type": "code",
   "execution_count": 16,
   "id": "ffc73747",
   "metadata": {},
   "outputs": [
    {
     "ename": "TypeError",
     "evalue": "unsupported operand type(s) for /: 'float' and 'function'",
     "output_type": "error",
     "traceback": [
      "\u001b[0;31m---------------------------------------------------------------------------\u001b[0m",
      "\u001b[0;31mTypeError\u001b[0m                                 Traceback (most recent call last)",
      "Input \u001b[0;32mIn [16]\u001b[0m, in \u001b[0;36m<cell line: 1>\u001b[0;34m()\u001b[0m\n\u001b[0;32m----> 1\u001b[0m \u001b[43mk\u001b[49m\u001b[43m(\u001b[49m\u001b[38;5;241;43m0\u001b[39;49m\u001b[43m)\u001b[49m\n",
      "Input \u001b[0;32mIn [15]\u001b[0m, in \u001b[0;36mk\u001b[0;34m(theta)\u001b[0m\n\u001b[1;32m     20\u001b[0m \u001b[38;5;28;01mdef\u001b[39;00m \u001b[38;5;21mk\u001b[39m(theta):\n\u001b[0;32m---> 21\u001b[0m     \u001b[38;5;28;01mreturn\u001b[39;00m \u001b[38;5;241;43m-\u001b[39;49m\u001b[43mg\u001b[49m\u001b[38;5;241;43m/\u001b[39;49m\u001b[43ml\u001b[49m\u001b[38;5;241m*\u001b[39mnp\u001b[38;5;241m.\u001b[39msin(theta)\n",
      "\u001b[0;31mTypeError\u001b[0m: unsupported operand type(s) for /: 'float' and 'function'"
     ]
    }
   ],
   "source": [
    "k(0)"
   ]
  },
  {
   "cell_type": "code",
   "execution_count": 18,
   "id": "f2e8b0bf",
   "metadata": {},
   "outputs": [
    {
     "data": {
      "text/plain": [
       "0.0"
      ]
     },
     "execution_count": 18,
     "metadata": {},
     "output_type": "execute_result"
    }
   ],
   "source": [
    "g*np.sin(0)/10"
   ]
  },
  {
   "cell_type": "code",
   "execution_count": 13,
   "id": "802ebb6a",
   "metadata": {},
   "outputs": [
    {
     "ename": "NameError",
     "evalue": "name 'theta' is not defined",
     "output_type": "error",
     "traceback": [
      "\u001b[0;31m---------------------------------------------------------------------------\u001b[0m",
      "\u001b[0;31mNameError\u001b[0m                                 Traceback (most recent call last)",
      "Input \u001b[0;32mIn [13]\u001b[0m, in \u001b[0;36m<cell line: 1>\u001b[0;34m()\u001b[0m\n\u001b[0;32m----> 1\u001b[0m \u001b[43mtheta\u001b[49m\n",
      "\u001b[0;31mNameError\u001b[0m: name 'theta' is not defined"
     ]
    }
   ],
   "source": [
    "theta"
   ]
  },
  {
   "cell_type": "code",
   "execution_count": null,
   "id": "a4166c25",
   "metadata": {},
   "outputs": [],
   "source": []
  }
 ],
 "metadata": {
  "kernelspec": {
   "display_name": "Python 3 (ipykernel)",
   "language": "python",
   "name": "python3"
  },
  "language_info": {
   "codemirror_mode": {
    "name": "ipython",
    "version": 3
   },
   "file_extension": ".py",
   "mimetype": "text/x-python",
   "name": "python",
   "nbconvert_exporter": "python",
   "pygments_lexer": "ipython3",
   "version": "3.9.12"
  }
 },
 "nbformat": 4,
 "nbformat_minor": 5
}
