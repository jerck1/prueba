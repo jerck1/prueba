{
 "cells": [
  {
   "cell_type": "markdown",
   "id": "d1f2e2d8",
   "metadata": {},
   "source": [
    "# <center> Interpolación de Lagrange <center>\n",
    "https://github.com/jerck1/prueba"
   ]
  },
  {
   "cell_type": "code",
   "execution_count": 1,
   "id": "d9381a3d",
   "metadata": {},
   "outputs": [],
   "source": [
    "import numpy as np\n",
    "import pandas as pd\n",
    "import matplotlib.pyplot as plt\n",
    "from IPython.display import Image"
   ]
  },
  {
   "cell_type": "markdown",
   "id": "2fa17d44",
   "metadata": {},
   "source": [
    "## Problema de aplicación:\n",
    "Supongamos que tenemos una tabla termodinámica con los datos experimentales de temperatura y energía interna específica específica. Se requiere saber la temperatura en un punto intermedio, por ejemplo, para 298 K, que es la temperatura ambiente. Para resolver este problema, podemos usar un método de interpolación, como el de Lagrange."
   ]
  },
  {
   "cell_type": "code",
   "execution_count": 69,
   "id": "7b9ef87d",
   "metadata": {},
   "outputs": [
    {
     "data": {
      "text/html": [
       "<div>\n",
       "<style scoped>\n",
       "    .dataframe tbody tr th:only-of-type {\n",
       "        vertical-align: middle;\n",
       "    }\n",
       "\n",
       "    .dataframe tbody tr th {\n",
       "        vertical-align: top;\n",
       "    }\n",
       "\n",
       "    .dataframe thead th {\n",
       "        text-align: right;\n",
       "    }\n",
       "</style>\n",
       "<table border=\"1\" class=\"dataframe\">\n",
       "  <thead>\n",
       "    <tr style=\"text-align: right;\">\n",
       "      <th></th>\n",
       "      <th>Temperatura (K)</th>\n",
       "      <th>u (KJ/kmol)</th>\n",
       "    </tr>\n",
       "  </thead>\n",
       "  <tbody>\n",
       "    <tr>\n",
       "      <th>0</th>\n",
       "      <td>0</td>\n",
       "      <td>0.000</td>\n",
       "    </tr>\n",
       "    <tr>\n",
       "      <th>1</th>\n",
       "      <td>5</td>\n",
       "      <td>21.019</td>\n",
       "    </tr>\n",
       "    <tr>\n",
       "      <th>2</th>\n",
       "      <td>10</td>\n",
       "      <td>42.020</td>\n",
       "    </tr>\n",
       "    <tr>\n",
       "      <th>3</th>\n",
       "      <td>15</td>\n",
       "      <td>62.980</td>\n",
       "    </tr>\n",
       "    <tr>\n",
       "      <th>4</th>\n",
       "      <td>20</td>\n",
       "      <td>83.913</td>\n",
       "    </tr>\n",
       "    <tr>\n",
       "      <th>5</th>\n",
       "      <td>25</td>\n",
       "      <td>104.830</td>\n",
       "    </tr>\n",
       "    <tr>\n",
       "      <th>6</th>\n",
       "      <td>30</td>\n",
       "      <td>125.730</td>\n",
       "    </tr>\n",
       "    <tr>\n",
       "      <th>7</th>\n",
       "      <td>35</td>\n",
       "      <td>146.630</td>\n",
       "    </tr>\n",
       "    <tr>\n",
       "      <th>8</th>\n",
       "      <td>40</td>\n",
       "      <td>167.530</td>\n",
       "    </tr>\n",
       "    <tr>\n",
       "      <th>9</th>\n",
       "      <td>45</td>\n",
       "      <td>188.430</td>\n",
       "    </tr>\n",
       "    <tr>\n",
       "      <th>10</th>\n",
       "      <td>50</td>\n",
       "      <td>209.330</td>\n",
       "    </tr>\n",
       "  </tbody>\n",
       "</table>\n",
       "</div>"
      ],
      "text/plain": [
       "    Temperatura (K)  u (KJ/kmol)\n",
       "0                 0        0.000\n",
       "1                 5       21.019\n",
       "2                10       42.020\n",
       "3                15       62.980\n",
       "4                20       83.913\n",
       "5                25      104.830\n",
       "6                30      125.730\n",
       "7                35      146.630\n",
       "8                40      167.530\n",
       "9                45      188.430\n",
       "10               50      209.330"
      ]
     },
     "execution_count": 69,
     "metadata": {},
     "output_type": "execute_result"
    }
   ],
   "source": [
    "# Temperatura=np.arange(220,330,10) # K\n",
    "Temperatura=np.arange(0,55,5) # K\n",
    "# Energia=[4575,4782,4989,5197,5405,5613,5822,\n",
    "#          6032,6242,6453,6664] #kJ/mol\n",
    "Energia=[0,21.019,42.02,62.98,83.913,104.83,\n",
    "         125.73,146.63,167.53,188.43,209.33]\n",
    "data=pd.DataFrame({\"Temperatura (K)\": Temperatura, \"u (KJ/kmol)\": Energia})\n",
    "data"
   ]
  },
  {
   "cell_type": "markdown",
   "id": "e2d310db",
   "metadata": {},
   "source": [
    "## Formula para los coeficientes de interpolación\n",
    "Dados n puntos de la forma $(x_0,y_0),(x_1,y_1),...,(x_{n-1},y_{n-1})$, el polinomio de Lagrange que interpola los puntos está dado por la superposición:\n",
    "$$ p(x)=\\sum_{i=0}^{n-1}y_{i}L_{i}(x)$$ \n",
    "Con x: Punto a interpolar ; $y_{i}$ coordenada en y i-ésima $L_{i}$ producto $i$-ésimo dado por la siguiente expresión:\n",
    "    $$ L_{i}(x)=\\Pi_{j=0,j\\neq i}^{n}\\frac{(x-x_{j})}{(x_{i}-x_{j})} $$ $ i=0,...,n-1$"
   ]
  },
  {
   "cell_type": "code",
   "execution_count": 70,
   "id": "88f12406",
   "metadata": {},
   "outputs": [],
   "source": [
    "#Implementamos el cálculo de la base del polinomio L_i en un función:\n",
    "def L(i,x,X,n):#i=0, j=1,2\n",
    "    prod=1\n",
    "    for j in range(n):\n",
    "        if(i!=j):\n",
    "            prod*=(x-X[j])/(X[i]-X[j])\n",
    "    return prod\n",
    "##################################################################################\n",
    "#Calculamos los polinomios haciendo una sumatoria de los productos L_iy_i\n",
    "def p_lagrange(x,X,Y):\n",
    "    n=len(X)\n",
    "    suma=0\n",
    "    for i in range(n):\n",
    "#         print(type(L(i,x,X,n)))\n",
    "#         print(type(Y[i]))\n",
    "        suma+=L(i,x,X,n)*Y[i]\n",
    "    return suma"
   ]
  },
  {
   "cell_type": "code",
   "execution_count": 75,
   "id": "d18123ca",
   "metadata": {},
   "outputs": [
    {
     "data": {
      "text/plain": [
       "67.16787239559166"
      ]
     },
     "execution_count": 75,
     "metadata": {},
     "output_type": "execute_result"
    }
   ],
   "source": [
    "T_int1=16\n",
    "u_1=p_lagrange(T_int1,data[\"Temperatura (K)\"],data[\"u (KJ/kmol)\"])\n",
    "u_1"
   ]
  },
  {
   "cell_type": "markdown",
   "id": "ae766641",
   "metadata": {},
   "source": [
    "Ahora hagamos la interpolación para un punto más cercano a los bordes, por ejemplo 315 K:"
   ]
  },
  {
   "cell_type": "code",
   "execution_count": 78,
   "id": "2a727a78",
   "metadata": {},
   "outputs": [
    {
     "data": {
      "text/plain": [
       "171.70870430343163"
      ]
     },
     "execution_count": 78,
     "metadata": {},
     "output_type": "execute_result"
    }
   ],
   "source": [
    "T_int2=41\n",
    "u_2=p_lagrange(T_int2,data[\"Temperatura (K)\"],data[\"u (KJ/kmol)\"])\n",
    "u_2"
   ]
  },
  {
   "cell_type": "markdown",
   "id": "1786e31e",
   "metadata": {},
   "source": [
    "Gráfiquemos los dos puntos"
   ]
  },
  {
   "cell_type": "code",
   "execution_count": 77,
   "id": "9f02fec3",
   "metadata": {
    "scrolled": true
   },
   "outputs": [
    {
     "data": {
      "text/plain": [
       "<matplotlib.collections.PathCollection at 0x7f419b1a1790>"
      ]
     },
     "execution_count": 77,
     "metadata": {},
     "output_type": "execute_result"
    },
    {
     "data": {
      "image/png": "[encoded data removed]",
      "text/plain": [
       "<Figure size 432x288 with 1 Axes>"
      ]
     },
     "metadata": {
      "needs_background": "light"
     },
     "output_type": "display_data"
    }
   ],
   "source": [
    "plt.scatter(data[\"Temperatura (K)\"],data[\"u (KJ/kmol)\"])\n",
    "plt.scatter(T_int1,u_1)\n",
    "plt.scatter(T_int2,u_2)"
   ]
  },
  {
   "cell_type": "markdown",
   "id": "03560a5c",
   "metadata": {},
   "source": [
    "Para una colección de puntos interpolados:"
   ]
  },
  {
   "cell_type": "code",
   "execution_count": 84,
   "id": "35dd8e2f",
   "metadata": {},
   "outputs": [
    {
     "data": {
      "text/plain": [
       "[<matplotlib.lines.Line2D at 0x7f419baca400>]"
      ]
     },
     "execution_count": 84,
     "metadata": {},
     "output_type": "execute_result"
    },
    {
     "data": {
      "image/png": "[encoded data removed]",
      "text/plain": [
       "<Figure size 432x288 with 1 Axes>"
      ]
     },
     "metadata": {
      "needs_background": "light"
     },
     "output_type": "display_data"
    }
   ],
   "source": [
    "T_range=np.arange(0,50,1)\n",
    "puntos=[p_lagrange(x,data[\"Temperatura (K)\"],data[\"u (KJ/kmol)\"]) for x in T_range]\n",
    "plt.scatter(data[\"Temperatura (K)\"],data[\"u (KJ/kmol)\"])\n",
    "plt.plot(T_range,puntos)"
   ]
  },
  {
   "cell_type": "markdown",
   "id": "3de51def",
   "metadata": {},
   "source": [
    "* Si los datos no fueran lineales, a medida que aumentemos la cantidad de puntos, la interpolación fallaría, especialmente en los bordes. Para esto, se pueden utilizar otros mètodos de interpolación, como el método de Newton."
   ]
  },
  {
   "cell_type": "code",
   "execution_count": null,
   "id": "80108615",
   "metadata": {},
   "outputs": [],
   "source": []
  }
 ],
 "metadata": {
  "kernelspec": {
   "display_name": "Python 3 (ipykernel)",
   "language": "python",
   "name": "python3"
  },
  "language_info": {
   "codemirror_mode": {
    "name": "ipython",
    "version": 3
   },
   "file_extension": ".py",
   "mimetype": "text/x-python",
   "name": "python",
   "nbconvert_exporter": "python",
   "pygments_lexer": "ipython3",
   "version": "3.9.12"
  }
 },
 "nbformat": 4,
 "nbformat_minor": 5
}
